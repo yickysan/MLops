{
 "cells": [
  {
   "cell_type": "markdown",
   "id": "1941b752",
   "metadata": {},
   "source": [
    "# Predicting Bullying Amongst Students In School.\n",
    "\n",
    "The goal of the project is to create a machine learning model that can well identify whether a student is being bullied or not. For this project different strategies have been tried to arrive at the best model to use in making predictions. The models to be used range from a simple logistic regression model, to a custom made model that combines the predictions of two models. \n",
    "There is also the dilemma of recall vs precision, these two classification metrics have an inverse relationship and optimising for one leads to reduction of the other. The primary metric that will be used in evaluating the models is the ROCAUC score. Since the data being used is an imbalanced data set, this gives a better evaluation on how well the models perform. \n",
    "\n",
    "There will be two approach used in tackling the problem of the imbalanced data set. \n",
    "1. To perform hyperparameter tuning and give weighting to the different classes to be predicted.\n",
    "2. Resampling the training data by both under sampling it and over sampling it.\n",
    "\n",
    "### Summary\n",
    "* There were three models that stood out after training the data and they were the logistic regression model, SVC and the xgboost model.\n",
    "* The SVC model had the best performance. Even after tuning both the logistic regression and xgboost model they could not perfrom better than the SVC model.\n",
    "* Resampling the data by either over sampling, under sampling or both combined did not provide improvement to the models."
   ]
  },
  {
   "cell_type": "code",
   "execution_count": 1,
   "id": "a5b8226d",
   "metadata": {},
   "outputs": [],
   "source": [
    "# importing required libraries\n",
    "import pandas as pd\n",
    "import numpy as np\n",
    "import matplotlib.pyplot as plt\n",
    "from sklearn.compose import ColumnTransformer \n",
    "from imblearn.pipeline import Pipeline\n",
    "from sklearn.preprocessing import OneHotEncoder\n",
    "from sklearn.model_selection import train_test_split, GridSearchCV, RandomizedSearchCV, cross_val_score\n",
    "from sklearn.linear_model import LogisticRegression\n",
    "from sklearn.svm import SVC\n",
    "from sklearn.tree import DecisionTreeClassifier\n",
    "from sklearn.ensemble import RandomForestClassifier\n",
    "from sklearn.ensemble import AdaBoostClassifier\n",
    "from sklearn.feature_selection import SelectKBest, chi2\n",
    "from sklearn.metrics import confusion_matrix, roc_auc_score, precision_score, recall_score, accuracy_score, ConfusionMatrixDisplay\n",
    "from xgboost import XGBClassifier\n",
    "from imblearn.over_sampling import SMOTE\n",
    "from imblearn.under_sampling import RandomUnderSampler\n",
    "import shap\n",
    "import warnings\n",
    "warnings.filterwarnings(\"ignore\")"
   ]
  },
  {
   "cell_type": "code",
   "execution_count": 2,
   "id": "d927fe40",
   "metadata": {},
   "outputs": [],
   "source": [
    "bullying = pd.read_csv(\"bullying.csv\")"
   ]
  },
  {
   "cell_type": "code",
   "execution_count": 3,
   "id": "a273d7d7",
   "metadata": {
    "scrolled": true
   },
   "outputs": [
    {
     "data": {
      "text/html": [
       "<div>\n",
       "<style scoped>\n",
       "    .dataframe tbody tr th:only-of-type {\n",
       "        vertical-align: middle;\n",
       "    }\n",
       "\n",
       "    .dataframe tbody tr th {\n",
       "        vertical-align: top;\n",
       "    }\n",
       "\n",
       "    .dataframe thead th {\n",
       "        text-align: right;\n",
       "    }\n",
       "</style>\n",
       "<table border=\"1\" class=\"dataframe\">\n",
       "  <thead>\n",
       "    <tr style=\"text-align: right;\">\n",
       "      <th></th>\n",
       "      <th>record</th>\n",
       "      <th>bullied_in_school</th>\n",
       "      <th>bullied_not_school</th>\n",
       "      <th>cyber_bullied</th>\n",
       "      <th>custom_age</th>\n",
       "      <th>sex</th>\n",
       "      <th>physically_attacked</th>\n",
       "      <th>physical_fighting</th>\n",
       "      <th>felt_lonely</th>\n",
       "      <th>close_friends</th>\n",
       "      <th>missed_school</th>\n",
       "      <th>other_students_kind_and_helpful</th>\n",
       "      <th>parents_understand_problems</th>\n",
       "      <th>most_of_the_time_or_always_felt_lonely</th>\n",
       "      <th>missed_classes</th>\n",
       "      <th>were_underweight</th>\n",
       "      <th>were_overweight</th>\n",
       "      <th>were_obese</th>\n",
       "    </tr>\n",
       "  </thead>\n",
       "  <tbody>\n",
       "    <tr>\n",
       "      <th>0</th>\n",
       "      <td>1</td>\n",
       "      <td>Yes</td>\n",
       "      <td>Yes</td>\n",
       "      <td>NaN</td>\n",
       "      <td>13 years old</td>\n",
       "      <td>Female</td>\n",
       "      <td>0 times</td>\n",
       "      <td>0 times</td>\n",
       "      <td>Always</td>\n",
       "      <td>2</td>\n",
       "      <td>10 or more days</td>\n",
       "      <td>Never</td>\n",
       "      <td>Always</td>\n",
       "      <td>Yes</td>\n",
       "      <td>Yes</td>\n",
       "      <td>NaN</td>\n",
       "      <td>NaN</td>\n",
       "      <td>NaN</td>\n",
       "    </tr>\n",
       "    <tr>\n",
       "      <th>1</th>\n",
       "      <td>2</td>\n",
       "      <td>No</td>\n",
       "      <td>No</td>\n",
       "      <td>No</td>\n",
       "      <td>13 years old</td>\n",
       "      <td>Female</td>\n",
       "      <td>0 times</td>\n",
       "      <td>0 times</td>\n",
       "      <td>Never</td>\n",
       "      <td>3 or more</td>\n",
       "      <td>0 days</td>\n",
       "      <td>Sometimes</td>\n",
       "      <td>Always</td>\n",
       "      <td>No</td>\n",
       "      <td>No</td>\n",
       "      <td>NaN</td>\n",
       "      <td>NaN</td>\n",
       "      <td>NaN</td>\n",
       "    </tr>\n",
       "    <tr>\n",
       "      <th>2</th>\n",
       "      <td>3</td>\n",
       "      <td>No</td>\n",
       "      <td>No</td>\n",
       "      <td>No</td>\n",
       "      <td>14 years old</td>\n",
       "      <td>Male</td>\n",
       "      <td>0 times</td>\n",
       "      <td>0 times</td>\n",
       "      <td>Never</td>\n",
       "      <td>3 or more</td>\n",
       "      <td>0 days</td>\n",
       "      <td>Sometimes</td>\n",
       "      <td>Always</td>\n",
       "      <td>No</td>\n",
       "      <td>No</td>\n",
       "      <td>No</td>\n",
       "      <td>No</td>\n",
       "      <td>No</td>\n",
       "    </tr>\n",
       "    <tr>\n",
       "      <th>3</th>\n",
       "      <td>4</td>\n",
       "      <td>No</td>\n",
       "      <td>No</td>\n",
       "      <td>No</td>\n",
       "      <td>16 years old</td>\n",
       "      <td>Male</td>\n",
       "      <td>0 times</td>\n",
       "      <td>2 or 3 times</td>\n",
       "      <td>Never</td>\n",
       "      <td>3 or more</td>\n",
       "      <td>0 days</td>\n",
       "      <td>Sometimes</td>\n",
       "      <td>NaN</td>\n",
       "      <td>No</td>\n",
       "      <td>No</td>\n",
       "      <td>No</td>\n",
       "      <td>No</td>\n",
       "      <td>No</td>\n",
       "    </tr>\n",
       "    <tr>\n",
       "      <th>4</th>\n",
       "      <td>5</td>\n",
       "      <td>No</td>\n",
       "      <td>No</td>\n",
       "      <td>No</td>\n",
       "      <td>13 years old</td>\n",
       "      <td>Female</td>\n",
       "      <td>0 times</td>\n",
       "      <td>0 times</td>\n",
       "      <td>Rarely</td>\n",
       "      <td>3 or more</td>\n",
       "      <td>0 days</td>\n",
       "      <td>Most of the time</td>\n",
       "      <td>Most of the time</td>\n",
       "      <td>No</td>\n",
       "      <td>No</td>\n",
       "      <td>NaN</td>\n",
       "      <td>NaN</td>\n",
       "      <td>NaN</td>\n",
       "    </tr>\n",
       "  </tbody>\n",
       "</table>\n",
       "</div>"
      ],
      "text/plain": [
       "   record bullied_in_school bullied_not_school cyber_bullied    custom_age  \\\n",
       "0       1               Yes                Yes           NaN  13 years old   \n",
       "1       2                No                 No            No  13 years old   \n",
       "2       3                No                 No            No  14 years old   \n",
       "3       4                No                 No            No  16 years old   \n",
       "4       5                No                 No            No  13 years old   \n",
       "\n",
       "      sex physically_attacked physical_fighting felt_lonely close_friends  \\\n",
       "0  Female             0 times           0 times      Always             2   \n",
       "1  Female             0 times           0 times       Never     3 or more   \n",
       "2    Male             0 times           0 times       Never     3 or more   \n",
       "3    Male             0 times      2 or 3 times       Never     3 or more   \n",
       "4  Female             0 times           0 times      Rarely     3 or more   \n",
       "\n",
       "     missed_school other_students_kind_and_helpful  \\\n",
       "0  10 or more days                           Never   \n",
       "1           0 days                       Sometimes   \n",
       "2           0 days                       Sometimes   \n",
       "3           0 days                       Sometimes   \n",
       "4           0 days                Most of the time   \n",
       "\n",
       "  parents_understand_problems most_of_the_time_or_always_felt_lonely  \\\n",
       "0                      Always                                    Yes   \n",
       "1                      Always                                     No   \n",
       "2                      Always                                     No   \n",
       "3                         NaN                                     No   \n",
       "4            Most of the time                                     No   \n",
       "\n",
       "  missed_classes were_underweight were_overweight were_obese  \n",
       "0            Yes              NaN             NaN        NaN  \n",
       "1             No              NaN             NaN        NaN  \n",
       "2             No               No              No         No  \n",
       "3             No               No              No         No  \n",
       "4             No              NaN             NaN        NaN  "
      ]
     },
     "execution_count": 3,
     "metadata": {},
     "output_type": "execute_result"
    }
   ],
   "source": [
    "bullying.head()"
   ]
  },
  {
   "cell_type": "markdown",
   "id": "e112fa49",
   "metadata": {},
   "source": [
    "###  Cleaning Data and Handling Null Values"
   ]
  },
  {
   "cell_type": "code",
   "execution_count": 4,
   "id": "d2f2e827",
   "metadata": {
    "scrolled": true
   },
   "outputs": [
    {
     "data": {
      "text/plain": [
       "record                                     0.000000\n",
       "bullied_in_school                          2.174409\n",
       "bullied_not_school                         0.858181\n",
       "cyber_bullied                              1.002088\n",
       "custom_age                                 0.189537\n",
       "sex                                        0.940664\n",
       "physically_attacked                        0.421193\n",
       "physical_fighting                          0.470332\n",
       "felt_lonely                                0.642319\n",
       "close_friends                              1.888349\n",
       "missed_school                              3.271266\n",
       "other_students_kind_and_helpful            2.736000\n",
       "parents_understand_problems                4.164546\n",
       "most_of_the_time_or_always_felt_lonely     0.642319\n",
       "missed_classes                             3.271266\n",
       "were_underweight                          36.729787\n",
       "were_overweight                           36.729787\n",
       "were_obese                                36.729787\n",
       "dtype: float64"
      ]
     },
     "execution_count": 4,
     "metadata": {},
     "output_type": "execute_result"
    }
   ],
   "source": [
    "bullying.isnull().sum()/bullying.shape[0] * 100"
   ]
  },
  {
   "cell_type": "markdown",
   "id": "3d26dd56",
   "metadata": {},
   "source": [
    "The columns with more than 5% of null values are going t be dropped. This includes the `were_obese`, `were_underweight`, `were_overweight` columns. From the EDA done which can be found <a href=\"https://github.com/yickysan/MLops/blob/main/notebook/Exploratory%20data%20analysis.ipynb\">here</a> , these columns are not indicative of bullying. For the rest of the dataset, the null entries will be dropped. "
   ]
  },
  {
   "cell_type": "code",
   "execution_count": 5,
   "id": "1a7623d8",
   "metadata": {},
   "outputs": [],
   "source": [
    "bullying.drop(\n",
    "    [\"were_obese\", \"were_underweight\", \"were_overweight\"],\n",
    "    axis=1, inplace=True\n",
    ")\n",
    "bullying.dropna(inplace=True)"
   ]
  },
  {
   "cell_type": "code",
   "execution_count": 6,
   "id": "0e8ce0f1",
   "metadata": {
    "scrolled": true
   },
   "outputs": [
    {
     "data": {
      "text/plain": [
       "record                                    0\n",
       "bullied_in_school                         0\n",
       "bullied_not_school                        0\n",
       "cyber_bullied                             0\n",
       "custom_age                                0\n",
       "sex                                       0\n",
       "physically_attacked                       0\n",
       "physical_fighting                         0\n",
       "felt_lonely                               0\n",
       "close_friends                             0\n",
       "missed_school                             0\n",
       "other_students_kind_and_helpful           0\n",
       "parents_understand_problems               0\n",
       "most_of_the_time_or_always_felt_lonely    0\n",
       "missed_classes                            0\n",
       "dtype: int64"
      ]
     },
     "execution_count": 6,
     "metadata": {},
     "output_type": "execute_result"
    }
   ],
   "source": [
    "bullying.isnull().sum()"
   ]
  },
  {
   "cell_type": "code",
   "execution_count": 7,
   "id": "f84366ea",
   "metadata": {},
   "outputs": [],
   "source": [
    "bullying.drop(\n",
    "    [\"record\", \"most_of_the_time_or_always_felt_lonely\", \"missed_classes\"],\n",
    "    axis=1, inplace=True\n",
    ")"
   ]
  },
  {
   "cell_type": "code",
   "execution_count": 8,
   "id": "9af35942",
   "metadata": {},
   "outputs": [
    {
     "data": {
      "text/plain": [
       "(50754, 12)"
      ]
     },
     "execution_count": 8,
     "metadata": {},
     "output_type": "execute_result"
    }
   ],
   "source": [
    "bullying.shape"
   ]
  },
  {
   "cell_type": "markdown",
   "id": "d31d50ac",
   "metadata": {},
   "source": [
    "## Creating Features and Target Variable"
   ]
  },
  {
   "cell_type": "code",
   "execution_count": 9,
   "id": "7a9c0405",
   "metadata": {},
   "outputs": [],
   "source": [
    "y = bullying[\"bullied_in_school\"].astype(\"category\").cat.codes\n",
    "X = bullying.copy().drop(\"bullied_in_school\", axis=1)"
   ]
  },
  {
   "cell_type": "code",
   "execution_count": 10,
   "id": "77d31347",
   "metadata": {
    "scrolled": true
   },
   "outputs": [
    {
     "data": {
      "text/plain": [
       "0    0.789731\n",
       "1    0.210269\n",
       "dtype: float64"
      ]
     },
     "execution_count": 10,
     "metadata": {},
     "output_type": "execute_result"
    }
   ],
   "source": [
    "y.value_counts(normalize=True)"
   ]
  },
  {
   "cell_type": "markdown",
   "id": "707d8f03",
   "metadata": {},
   "source": [
    "The data set is imbalanced with only 21% of the data being students that were bullied."
   ]
  },
  {
   "cell_type": "code",
   "execution_count": 11,
   "id": "88781a98",
   "metadata": {},
   "outputs": [],
   "source": [
    "cat_cols = X.select_dtypes(include=[\"object\"]).columns\n",
    "ohe = OneHotEncoder(sparse=False)\n",
    "\n",
    "col_transformer= ColumnTransformer([\n",
    "    (\"cat\", ohe, cat_cols)\n",
    "])\n",
    "\n",
    "X = col_transformer.fit_transform(X)"
   ]
  },
  {
   "cell_type": "code",
   "execution_count": 12,
   "id": "fc4f7a13",
   "metadata": {},
   "outputs": [],
   "source": [
    "X_train, X_test, y_train, y_test = train_test_split(X, y, test_size=0.2, random_state=1)"
   ]
  },
  {
   "cell_type": "code",
   "execution_count": 13,
   "id": "ea5b08e2",
   "metadata": {},
   "outputs": [],
   "source": [
    "X_train_df = pd.DataFrame(X_train, columns = col_transformer.named_transformers_[\"cat\"].get_feature_names_out())\n",
    "X_test_df = pd.DataFrame(X_test, columns = col_transformer.named_transformers_[\"cat\"].get_feature_names_out())\n"
   ]
  },
  {
   "cell_type": "markdown",
   "id": "0363acc2",
   "metadata": {},
   "source": [
    "## Evaluating Models"
   ]
  },
  {
   "cell_type": "code",
   "execution_count": 14,
   "id": "7fe8e482",
   "metadata": {},
   "outputs": [],
   "source": [
    "scale_pos_weight = y.value_counts().values[0]/y.value_counts().values[1]"
   ]
  },
  {
   "cell_type": "markdown",
   "id": "a81289b2",
   "metadata": {},
   "source": [
    "The `scale_pos_weight` argument for the xgboost model accounts for the imbalance nature of the dataset. As a rule of thumb, a good `scale_pos_weight` value is the ratio of the majority class over the minority class. For the other models, the `class_weight` argument will be set to `balanced`."
   ]
  },
  {
   "cell_type": "code",
   "execution_count": 15,
   "id": "5d961854",
   "metadata": {},
   "outputs": [],
   "source": [
    "models = {\n",
    "    \"logreg\" : LogisticRegression(class_weight=\"balanced\"),\n",
    "    \"randomforest\" : RandomForestClassifier(class_weight=\"balanced\", random_state=1),\n",
    "    \"adaboost\" : AdaBoostClassifier(random_state=1),\n",
    "    \"xgboost\" : XGBClassifier(scale_pos_weight = scale_pos_weight, random_state=1),\n",
    "    \"svm\" : SVC(class_weight=\"balanced\", random_state=1),\n",
    "    \"tree\" : DecisionTreeClassifier(random_state=1, class_weight=\"balanced\")\n",
    "}"
   ]
  },
  {
   "cell_type": "code",
   "execution_count": 16,
   "id": "67aeb717",
   "metadata": {},
   "outputs": [],
   "source": [
    "model_performance = {}\n",
    "# loop through each item in the dictionary and use the models for prediction\n",
    "for k, v in models.items():\n",
    "    model_dict = {}\n",
    "    model_name = k\n",
    "    model = v\n",
    "    model.fit(X_train, y_train) # fit the model with training data\n",
    "    pred = model.predict(X_test)\n",
    "    model_dict[\"auc_score\"] = roc_auc_score(y_test, pred)\n",
    "    model_dict[\"precision_score\"] = precision_score(y_test, pred)\n",
    "    model_dict[\"recall_score\"] = recall_score(y_test, pred)\n",
    "    model_dict[\"confusion_matrix\"] = confusion_matrix(y_test, pred)\n",
    "    model_performance[model_name] = model_dict"
   ]
  },
  {
   "cell_type": "code",
   "execution_count": 17,
   "id": "42e28c31",
   "metadata": {
    "scrolled": false
   },
   "outputs": [
    {
     "name": "stdout",
     "output_type": "stream",
     "text": [
      "logreg :  \n",
      " auc_score: 0.7109 \n",
      " recall_score: 0.6499 \n",
      " precision_score: 0.4383 \n",
      " [[6152 1817]\n",
      " [ 764 1418]]\n",
      "---------------------------\n",
      "randomforest :  \n",
      " auc_score: 0.6280 \n",
      " recall_score: 0.3758 \n",
      " precision_score: 0.4622 \n",
      " [[7015  954]\n",
      " [1362  820]]\n",
      "---------------------------\n",
      "adaboost :  \n",
      " auc_score: 0.6211 \n",
      " recall_score: 0.2901 \n",
      " precision_score: 0.6236 \n",
      " [[7587  382]\n",
      " [1549  633]]\n",
      "---------------------------\n",
      "xgboost :  \n",
      " auc_score: 0.7015 \n",
      " recall_score: 0.6306 \n",
      " precision_score: 0.4313 \n",
      " [[6155 1814]\n",
      " [ 806 1376]]\n",
      "---------------------------\n",
      "svm :  \n",
      " auc_score: 0.7165 \n",
      " recall_score: 0.6682 \n",
      " precision_score: 0.4376 \n",
      " [[6095 1874]\n",
      " [ 724 1458]]\n",
      "---------------------------\n",
      "tree :  \n",
      " auc_score: 0.6058 \n",
      " recall_score: 0.4216 \n",
      " precision_score: 0.3547 \n",
      " [[6295 1674]\n",
      " [1262  920]]\n",
      "---------------------------\n"
     ]
    }
   ],
   "source": [
    "for key in model_performance.keys():\n",
    "    print(key, \": \", \"\\n\",\n",
    "          \"auc_score: %.4f\" %model_performance[key][\"auc_score\"], \"\\n\", \n",
    "          \"recall_score: %.4f\" %model_performance[key][\"recall_score\"], \"\\n\",\n",
    "          \"precision_score: %.4f\" %model_performance[key][\"precision_score\"], \"\\n\",\n",
    "            model_performance[key][\"confusion_matrix\"])\n",
    "    print(\"---------------------------\")"
   ]
  },
  {
   "cell_type": "markdown",
   "id": "de31f757",
   "metadata": {},
   "source": [
    "The xgboost, svm and logistic regresion models performed best. Some hyperparameter tuning will be performed to see if the model performance can be improved."
   ]
  },
  {
   "cell_type": "markdown",
   "id": "8978e03b",
   "metadata": {},
   "source": [
    "## Hyperparameter Optimization."
   ]
  },
  {
   "cell_type": "markdown",
   "id": "7b5d2995",
   "metadata": {},
   "source": [
    "### XGB Hyperparameter Optimization"
   ]
  },
  {
   "cell_type": "code",
   "execution_count": 18,
   "id": "402dea81",
   "metadata": {},
   "outputs": [],
   "source": [
    "learning_rate = [i/100 for i in range(1, 11)]\n",
    "gamma = [i/10 for i in range(5)]\n",
    "max_depth = range(3, 10, 2)\n",
    "min_child_weight = range(1, 8, 2)\n",
    "reg_alpha =[1e-5, 1e-2, 0.1, 1, 100]\n",
    "subsample =[i/100 for i in range(75, 90, 5)]\n",
    "colsample_bytree = [i/100 for i in range(75, 90, 5)]\n",
    "scale_pos_weights = [1, 2, 3, 4, scale_pos_weight]\n",
    "\n",
    "xgb_model = models[\"xgboost\"]\n",
    "\n"
   ]
  },
  {
   "cell_type": "code",
   "execution_count": 19,
   "id": "5e26ecd5",
   "metadata": {},
   "outputs": [
    {
     "name": "stdout",
     "output_type": "stream",
     "text": [
      "0.7579010292094389\n",
      "{'n_estimators': 100}\n",
      "CPU times: total: 17.1 s\n",
      "Wall time: 16min 51s\n"
     ]
    }
   ],
   "source": [
    "%%time\n",
    "xgb_param = {\"n_estimators\" : range(100, 550, 50)}\n",
    "xgb_gridsearch = GridSearchCV(xgb_model, xgb_param, cv=10, scoring=\"roc_auc\", n_jobs=-1)\n",
    "xgb_gridsearch.fit(X, y)\n",
    "\n",
    "print(xgb_gridsearch.best_score_)\n",
    "print(xgb_gridsearch.best_params_)"
   ]
  },
  {
   "cell_type": "code",
   "execution_count": 20,
   "id": "f943d0ea",
   "metadata": {},
   "outputs": [
    {
     "name": "stdout",
     "output_type": "stream",
     "text": [
      "0.7755177408726329\n",
      "{'max_depth': 3, 'min_child_weight': 7}\n",
      "CPU times: total: 9.58 s\n",
      "Wall time: 10min 14s\n"
     ]
    }
   ],
   "source": [
    "%%time\n",
    "xgb_model2 = xgb_gridsearch.best_estimator_\n",
    "xgb_param2 = {\"max_depth\" : max_depth,\n",
    "              \"min_child_weight\" : min_child_weight\n",
    "             }\n",
    "xgb_gridsearch2 = GridSearchCV(xgb_model2, xgb_param2, cv=10, scoring=\"roc_auc\", n_jobs=-1)\n",
    "xgb_gridsearch2.fit(X, y)\n",
    "\n",
    "print(xgb_gridsearch2.best_score_)\n",
    "print(xgb_gridsearch2.best_params_)"
   ]
  },
  {
   "cell_type": "code",
   "execution_count": 21,
   "id": "1c7bf233",
   "metadata": {
    "scrolled": true
   },
   "outputs": [
    {
     "name": "stdout",
     "output_type": "stream",
     "text": [
      "0.7769757808446022\n",
      "{'gamma': 0.0, 'learning_rate': 0.08}\n",
      "CPU times: total: 13.2 s\n",
      "Wall time: 15min 32s\n"
     ]
    }
   ],
   "source": [
    "%%time\n",
    "xgb_model3 = xgb_gridsearch2.best_estimator_\n",
    "xgb_param3 = {\"learning_rate\" : learning_rate,\n",
    "              \"gamma\" : gamma }\n",
    "xgb_gridsearch3 = GridSearchCV(xgb_model3, xgb_param3, cv=10, scoring=\"roc_auc\", n_jobs=-1)\n",
    "xgb_gridsearch3.fit(X, y)\n",
    "\n",
    "print(xgb_gridsearch3.best_score_)\n",
    "print(xgb_gridsearch3.best_params_)"
   ]
  },
  {
   "cell_type": "code",
   "execution_count": 22,
   "id": "3858bb80",
   "metadata": {
    "scrolled": true
   },
   "outputs": [
    {
     "name": "stdout",
     "output_type": "stream",
     "text": [
      "0.7774898864224424\n",
      "{'reg_alpha': 0.1, 'subsample': 0.75}\n",
      "CPU times: total: 10.8 s\n",
      "Wall time: 4min 56s\n"
     ]
    }
   ],
   "source": [
    "%%time\n",
    "xgb_model4 = xgb_gridsearch3.best_estimator_\n",
    "xgb_param4 = {\"reg_alpha\" : reg_alpha,\n",
    "              \"subsample\" : subsample,}\n",
    "xgb_gridsearch4 = GridSearchCV(xgb_model4, xgb_param4, cv=10, scoring=\"roc_auc\", n_jobs=-1)\n",
    "xgb_gridsearch4.fit(X, y)\n",
    "\n",
    "print(xgb_gridsearch4.best_score_)\n",
    "print(xgb_gridsearch4.best_params_)"
   ]
  },
  {
   "cell_type": "code",
   "execution_count": 23,
   "id": "2898a7d0",
   "metadata": {},
   "outputs": [
    {
     "name": "stdout",
     "output_type": "stream",
     "text": [
      "0.7771881407915773\n",
      "{'colsample_bytree': 0.85, 'scale_pos_weight': 2}\n",
      "CPU times: total: 10.8 s\n",
      "Wall time: 4min 21s\n"
     ]
    }
   ],
   "source": [
    "%%time\n",
    "xgb_model5 = xgb_gridsearch4.best_estimator_\n",
    "xgb_param5 = {\"colsample_bytree\" : colsample_bytree,\n",
    "             \"scale_pos_weight\" : scale_pos_weights}\n",
    "xgb_gridsearch5 = GridSearchCV(xgb_model5, xgb_param5, cv=10, scoring=\"roc_auc\", n_jobs=-1)\n",
    "xgb_gridsearch5.fit(X, y)\n",
    "\n",
    "print(xgb_gridsearch5.best_score_)\n",
    "print(xgb_gridsearch5.best_params_)"
   ]
  },
  {
   "cell_type": "markdown",
   "id": "fb3983df",
   "metadata": {},
   "source": [
    "the parameters from the 4th iteration of the grid search for the xgboost model had the best auc_score and so that is the xgboost model that will be used."
   ]
  },
  {
   "cell_type": "code",
   "execution_count": 24,
   "id": "599ff2af",
   "metadata": {},
   "outputs": [],
   "source": [
    "xgb_model = XGBClassifier(scale_pos_weight=scale_pos_weight, learning_rate=0.08,\n",
    "                         gamma=0.0, reg_alpha=0.1, subsample=0.75,\n",
    "                         max_depth=3, min_child_weight=7)\n",
    "xgb_model.fit(X_train, y_train)\n",
    "xgb_pred = xgb_model.predict(X_test)"
   ]
  },
  {
   "cell_type": "code",
   "execution_count": 25,
   "id": "4088707b",
   "metadata": {},
   "outputs": [
    {
     "data": {
      "image/png": "[encoded data removed]",
      "text/plain": [
       "<Figure size 640x480 with 2 Axes>"
      ]
     },
     "metadata": {},
     "output_type": "display_data"
    },
    {
     "name": "stdout",
     "output_type": "stream",
     "text": [
      "auc_score: 0.7150 recall_score : 0.6659 accuracy_score: 0.7430 precision_score : 0.4359\n"
     ]
    }
   ],
   "source": [
    "xgb_model_plot = ConfusionMatrixDisplay(confusion_matrix(y_test, xgb_pred))\n",
    "xgb_model_plot.plot(cmap=plt.cm.Blues)\n",
    "xgb_model_plot.ax_.set_title(\"XGB Best Model Performance\")\n",
    "plt.show()\n",
    "\n",
    "print(\n",
    "    \"auc_score: %.4f\" % roc_auc_score(y_test, xgb_pred),\n",
    "    \"recall_score : %.4f\" %recall_score(y_test, xgb_pred),\n",
    "    \"accuracy_score: %.4f\" % accuracy_score(y_test, xgb_pred),\n",
    "    \"precision_score : %.4f\" %precision_score(y_test, xgb_pred)\n",
    "    \n",
    ")"
   ]
  },
  {
   "cell_type": "markdown",
   "id": "2faad188",
   "metadata": {},
   "source": [
    "After performing hyperparameter tuning on the xgboost model, there is a slight impovement and the model can better predict the minority class but the difference in model performance isn't really significant."
   ]
  },
  {
   "cell_type": "markdown",
   "id": "233dd7be",
   "metadata": {},
   "source": [
    "### LogisticRegression Hyperparameter Tuning"
   ]
  },
  {
   "cell_type": "code",
   "execution_count": 26,
   "id": "d8c18ca3",
   "metadata": {},
   "outputs": [],
   "source": [
    "lgr_clf = models[\"logreg\"]\n",
    "\n",
    "fit_intercept = [True, False]\n",
    "penalty = [\"l1\", \"l2\", \"elasticnet\"]\n",
    "solver = [\"lbfgs\", \"liblinear\", \"newton-cg\", \"newton-cholesky\", \"sag\", \"saga\"]\n",
    "class_weights = [{0:1, 1:99}, {0:10, 1:90}, {0:5, 1:95},\n",
    "                {0:15, 1:85}, {0:20, 1:80}, {0:25,1:75},\n",
    "                {0:19, 1:71}, {0:21, 1:69}, {0:11, 1:79}]"
   ]
  },
  {
   "cell_type": "code",
   "execution_count": 27,
   "id": "5a7102e3",
   "metadata": {},
   "outputs": [
    {
     "name": "stdout",
     "output_type": "stream",
     "text": [
      "0.7606219943957291\n",
      "{'fit_intercept': True, 'penalty': 'l2', 'solver': 'liblinear'}\n",
      "CPU times: total: 3.62 s\n",
      "Wall time: 1min 41s\n"
     ]
    }
   ],
   "source": [
    "%%time\n",
    "lgr_param = {\"penalty\" : penalty,\n",
    "            \"solver\" : solver,\n",
    "            \"fit_intercept\" : fit_intercept}\n",
    "lgr_gridsearch = GridSearchCV(lgr_clf, lgr_param, cv=10, scoring=\"roc_auc\", n_jobs=-1)\n",
    "lgr_gridsearch.fit(X, y)\n",
    "\n",
    "print(lgr_gridsearch.best_score_)\n",
    "print(lgr_gridsearch.best_params_)"
   ]
  },
  {
   "cell_type": "code",
   "execution_count": 28,
   "id": "192a9344",
   "metadata": {},
   "outputs": [
    {
     "name": "stdout",
     "output_type": "stream",
     "text": [
      "0.7608458939101563\n",
      "{'class_weight': {0: 1, 1: 99}}\n",
      "CPU times: total: 1.55 s\n",
      "Wall time: 28 s\n"
     ]
    }
   ],
   "source": [
    "%%time\n",
    "lgr_clf2 = lgr_gridsearch.best_estimator_\n",
    "lgr_param2 = {\"class_weight\" : class_weights}\n",
    "lgr_gridsearch2 = GridSearchCV(lgr_clf2, lgr_param2, cv=10, scoring=\"roc_auc\", n_jobs=-1)\n",
    "lgr_gridsearch2.fit(X, y)\n",
    "\n",
    "print(lgr_gridsearch2.best_score_)\n",
    "print(lgr_gridsearch2.best_params_)"
   ]
  },
  {
   "cell_type": "code",
   "execution_count": 34,
   "id": "ba2c4b18",
   "metadata": {},
   "outputs": [
    {
     "name": "stdout",
     "output_type": "stream",
     "text": [
      "0.5\n",
      "[[   0 7969]\n",
      " [   0 2182]]\n"
     ]
    }
   ],
   "source": [
    "lgr_gridsearch2.best_estimator_.fit(X_train, y_train)\n",
    "lgr_pred = lgr_gridsearch2.best_estimator_.predict(X_test)\n",
    "print(roc_auc_score(y_test, lgr_pred))\n",
    "print(confusion_matrix(y_test, lgr_pred))"
   ]
  },
  {
   "cell_type": "markdown",
   "id": "d88ce408",
   "metadata": {},
   "source": [
    "Despite the second logistic regression model performing better and having a better auc_score with the class weights in the grid_search. It doesn't do a good job at predicting the test data."
   ]
  },
  {
   "cell_type": "code",
   "execution_count": 29,
   "id": "fbc9d51d",
   "metadata": {
    "scrolled": true
   },
   "outputs": [
    {
     "name": "stdout",
     "output_type": "stream",
     "text": [
      "0.7092029621198275\n",
      "[[6256 1713]\n",
      " [ 800 1382]]\n"
     ]
    }
   ],
   "source": [
    "lgr_gridsearch.best_estimator_.fit(X_train, y_train)\n",
    "lgr_pred = lgr_gridsearch.best_estimator_.predict(X_test)\n",
    "print(roc_auc_score(y_test, lgr_pred))\n",
    "print(confusion_matrix(y_test, lgr_pred))"
   ]
  },
  {
   "cell_type": "markdown",
   "id": "1622193a",
   "metadata": {},
   "source": [
    "Infact the initial logistic regression model does a better job at predicting the test data than the logistic regression models after hyperparameter tuning."
   ]
  },
  {
   "cell_type": "code",
   "execution_count": 30,
   "id": "7587a985",
   "metadata": {},
   "outputs": [],
   "source": [
    "log_model = models[\"logreg\"]\n",
    "log_pred = log_model.predict(X_test)"
   ]
  },
  {
   "cell_type": "code",
   "execution_count": 31,
   "id": "5339b187",
   "metadata": {
    "scrolled": false
   },
   "outputs": [
    {
     "data": {
      "image/png": "[encoded data removed]",
      "text/plain": [
       "<Figure size 640x480 with 2 Axes>"
      ]
     },
     "metadata": {},
     "output_type": "display_data"
    },
    {
     "name": "stdout",
     "output_type": "stream",
     "text": [
      "auc_score: 0.7109 recall_score : 0.6499 accuracy_score: 0.7457 precision_score : 0.4383\n"
     ]
    }
   ],
   "source": [
    "log_model_plot = ConfusionMatrixDisplay(confusion_matrix(y_test, log_pred))\n",
    "log_model_plot.plot(cmap=plt.cm.Blues)\n",
    "log_model_plot.ax_.set_title(\"LogisticRegression Best Model Performance\")\n",
    "plt.show()\n",
    "\n",
    "print(\n",
    "    \"auc_score: %.4f\" % roc_auc_score(y_test, log_pred),\n",
    "    \"recall_score : %.4f\" %recall_score(y_test, log_pred),\n",
    "    \"accuracy_score: %.4f\" % accuracy_score(y_test, log_pred),\n",
    "    \"precision_score : %.4f\" %precision_score(y_test, log_pred)\n",
    "    \n",
    ")"
   ]
  },
  {
   "cell_type": "markdown",
   "id": "f5eb8a85",
   "metadata": {},
   "source": [
    "The logistic regression model somewhat matches the xgboost model. It has a slightly better accuracy and precision score but less recall score. In fact both models performance a roughly the same and the difference is negligible."
   ]
  },
  {
   "cell_type": "markdown",
   "id": "0a562776",
   "metadata": {},
   "source": [
    "## Creating Custom Model.\n",
    "The custom model will be a combination of both the xgboost model and the logistic regression model and also the svm model. The prediction for the custom model will be made by taking the average probability of the predictions made for each class. Probabilities greater than 0.5 will mean a prediction of 1 while probability less than or equal to 0.5 will mean a prediction of 0."
   ]
  },
  {
   "cell_type": "code",
   "execution_count": 32,
   "id": "d1b4909b",
   "metadata": {},
   "outputs": [],
   "source": [
    "class CustomBagger:\n",
    "    \"\"\"\n",
    "    Function to make predictions with two models using bagging technique.\n",
    "    \n",
    "    This function utilises one `sklearn.linear_model.LogisticRegression` model and an `xgboost.XGBClassifier` model to make\n",
    "    predictions on the dataset. Predictions are made by taking the average probability prediction of both models.\n",
    "    A value of 1 will be predicted if the probability is greater than 0.5, otherwise it will be 0.\n",
    "    \n",
    "    Attributes:\n",
    "    ----------\n",
    "    model_1 : \n",
    "        either an `xgboost.XGBClassifier` model or an `sklearn.linear_model.LogisticRegression` model\n",
    "        \n",
    "    model_2 :\n",
    "        either an `xgboost.XGBClassifier` model or an `sklearn.linear_model.LogisticRegression` model\n",
    "        \n",
    "    Methods:\n",
    "    -------\n",
    "    fit(X_train, y_train)\n",
    "        This method splits the dataset equally and fits the models with each half of the split dataset\n",
    "        \n",
    "    predict(y_test)\n",
    "        This method returns the average prediction of both models\n",
    "    \"\"\"\n",
    "    def __init__(self, model_1, model_2):\n",
    "        self.model_1 = model_1\n",
    "        self.model_2 = model_2\n",
    "        \n",
    "    def fit(self, X_train, y_train):\n",
    "        size = X_train.shape[0] // 2 # splitting the train data into equal parts to fit in the two models\n",
    "        X_train_1, y_train_1 = X_train[:size], y_train[:size]\n",
    "        X_train_2, y_train_2 = X_train[size:], y_train[size:]\n",
    "        \n",
    "        self.model_1 = self.model_1.fit(X_train_1, y_train_1)\n",
    "        self.model_2 = self.model_2.fit(X_train_2, y_train_2)\n",
    "        \n",
    "    def predict(self, y_test):\n",
    "        model_1_pred = pd.Series(self.model_1.predict_proba(y_test)[:, 1], name=\"model_1_pred\")\n",
    "        model_2_pred = pd.Series(self.model_2.predict_proba(y_test)[:, 1], name=\"model_2_pred\")\n",
    "        pred_table = pd.concat([model_1_pred, model_2_pred], axis=1) # creates a pandas data frame with predicttions of both model\n",
    "        predictions = pred_table.mean(axis=1) # takes the average of both predictions\n",
    "        predictions = predictions.apply(lambda x: 1 if x > 0.5 else 0).values # predicts 1 for probability greater than 0.55\n",
    "        \n",
    "        return predictions\n",
    "        \n",
    "        "
   ]
  },
  {
   "cell_type": "code",
   "execution_count": 33,
   "id": "6c08ceba",
   "metadata": {},
   "outputs": [],
   "source": [
    "svm_model = SVC(probability=True, class_weight=\"balanced\")"
   ]
  },
  {
   "cell_type": "code",
   "execution_count": 34,
   "id": "935d34f9",
   "metadata": {},
   "outputs": [],
   "source": [
    "log_xgb_model = CustomBagger(xgb_model, log_model)\n",
    "\n",
    "log_xgb_model.fit(X_train, y_train)\n",
    "\n",
    "preds = log_xgb_model.predict(X_test)"
   ]
  },
  {
   "cell_type": "code",
   "execution_count": 35,
   "id": "994b4664",
   "metadata": {
    "scrolled": false
   },
   "outputs": [
    {
     "data": {
      "image/png": "[encoded data removed]",
      "text/plain": [
       "<Figure size 640x480 with 2 Axes>"
      ]
     },
     "metadata": {},
     "output_type": "display_data"
    },
    {
     "name": "stdout",
     "output_type": "stream",
     "text": [
      "auc_score: 0.7151 recall_score : 0.6618 accuracy_score: 0.7454 precision_score : 0.4389\n"
     ]
    }
   ],
   "source": [
    "log_xgb_plot = ConfusionMatrixDisplay(confusion_matrix(y_test, preds))\n",
    "log_xgb_plot.plot(cmap=plt.cm.Blues)\n",
    "log_xgb_plot.ax_.set_title(\"Custom Model Performance (XGBClassifier & LogisticRegression)\")\n",
    "plt.show()\n",
    "\n",
    "print(\n",
    "    \"auc_score: %.4f\" % roc_auc_score(y_test, preds),\n",
    "    \"recall_score : %.4f\" %recall_score(y_test, preds),\n",
    "    \"accuracy_score: %.4f\" % accuracy_score(y_test, preds),\n",
    "    \"precision_score : %.4f\" %precision_score(y_test, preds)\n",
    "    \n",
    ")"
   ]
  },
  {
   "cell_type": "code",
   "execution_count": 36,
   "id": "357a8c83",
   "metadata": {},
   "outputs": [],
   "source": [
    "log_svm_model = CustomBagger(svm_model, log_model)\n",
    "\n",
    "log_svm_model.fit(X_train, y_train)\n",
    "\n",
    "preds_1 = log_svm_model.predict(X_test)"
   ]
  },
  {
   "cell_type": "code",
   "execution_count": 37,
   "id": "d363d4b5",
   "metadata": {},
   "outputs": [
    {
     "data": {
      "image/png": "[encoded data removed]",
      "text/plain": [
       "<Figure size 640x480 with 2 Axes>"
      ]
     },
     "metadata": {},
     "output_type": "display_data"
    },
    {
     "name": "stdout",
     "output_type": "stream",
     "text": [
      "auc_score: 0.6945 recall_score : 0.5330 accuracy_score: 0.7865 precision_score : 0.5032\n"
     ]
    }
   ],
   "source": [
    "log_svm_plot = ConfusionMatrixDisplay(confusion_matrix(y_test, preds_1))\n",
    "log_svm_plot.plot(cmap=plt.cm.Blues)\n",
    "log_svm_plot.ax_.set_title(\"Custom Model Performance (SVC & LogisticRegression)\")\n",
    "plt.show()\n",
    "\n",
    "print(\n",
    "    \"auc_score: %.4f\" % roc_auc_score(y_test, preds_1),\n",
    "    \"recall_score : %.4f\" %recall_score(y_test, preds_1),\n",
    "    \"accuracy_score: %.4f\" % accuracy_score(y_test, preds_1),\n",
    "    \"precision_score : %.4f\" %precision_score(y_test, preds_1)\n",
    "    \n",
    ")"
   ]
  },
  {
   "cell_type": "code",
   "execution_count": 38,
   "id": "cf689a72",
   "metadata": {},
   "outputs": [],
   "source": [
    "xgb_svm_model = CustomBagger(svm_model, xgb_model)\n",
    "\n",
    "xgb_svm_model.fit(X_train, y_train)\n",
    "\n",
    "preds_2 = xgb_svm_model.predict(X_test)"
   ]
  },
  {
   "cell_type": "code",
   "execution_count": 39,
   "id": "1e40ca2a",
   "metadata": {},
   "outputs": [
    {
     "data": {
      "image/png": "[encoded data removed]",
      "text/plain": [
       "<Figure size 640x480 with 2 Axes>"
      ]
     },
     "metadata": {},
     "output_type": "display_data"
    },
    {
     "name": "stdout",
     "output_type": "stream",
     "text": [
      "auc_score: 0.6892 recall_score : 0.5261 accuracy_score: 0.7821 precision_score : 0.4936\n"
     ]
    }
   ],
   "source": [
    "xgb_svm_plot = ConfusionMatrixDisplay(confusion_matrix(y_test, preds_1))\n",
    "xgb_svm_plot.plot(cmap=plt.cm.Blues)\n",
    "xgb_svm_plot.ax_.set_title(\"Custom Model Performance (SVC & XGBClassifier)\")\n",
    "plt.show()\n",
    "\n",
    "print(\n",
    "    \"auc_score: %.4f\" % roc_auc_score(y_test, preds_2),\n",
    "    \"recall_score : %.4f\" %recall_score(y_test, preds_2),\n",
    "    \"accuracy_score: %.4f\" % accuracy_score(y_test, preds_2),\n",
    "    \"precision_score : %.4f\" %precision_score(y_test, preds_2)\n",
    "    \n",
    ")"
   ]
  },
  {
   "cell_type": "markdown",
   "id": "b04b2d44",
   "metadata": {},
   "source": [
    "The custom models with either logistic regression or xgboost combined with the SVC model did not perform as good as the custom model built with the combination of xgboost and logistic regression. While this custom model with xgboost and logistu regression offered a slight improvement over both the stand alone xgboost and logistic regression model, it doesn't perform as wel as the stand alone SVC model."
   ]
  },
  {
   "cell_type": "markdown",
   "id": "15ffe9c1",
   "metadata": {},
   "source": [
    "## Model Explanation\n",
    "This is to give a bit of insight on how the models makes predictions by and what features of the data has the most influence on the model's predictions"
   ]
  },
  {
   "cell_type": "code",
   "execution_count": 58,
   "id": "1492caa5",
   "metadata": {},
   "outputs": [],
   "source": [
    "X_ex = bullying.copy().drop(\"bullied_in_school\", axis=1)\n",
    "for col in X_ex.columns:\n",
    "    X_ex[col] = X_ex[col].astype(\"category\").cat.codes\n",
    "    \n",
    "\n",
    "ex_train, ex_test = train_test_split(X_ex, test_size=0.2, random_state=1) "
   ]
  },
  {
   "cell_type": "code",
   "execution_count": 62,
   "id": "68bb62e2",
   "metadata": {},
   "outputs": [
    {
     "data": {
      "text/html": [
       "<style>#sk-container-id-1 {color: black;background-color: white;}#sk-container-id-1 pre{padding: 0;}#sk-container-id-1 div.sk-toggleable {background-color: white;}#sk-container-id-1 label.sk-toggleable__label {cursor: pointer;display: block;width: 100%;margin-bottom: 0;padding: 0.3em;box-sizing: border-box;text-align: center;}#sk-container-id-1 label.sk-toggleable__label-arrow:before {content: \"▸\";float: left;margin-right: 0.25em;color: #696969;}#sk-container-id-1 label.sk-toggleable__label-arrow:hover:before {color: black;}#sk-container-id-1 div.sk-estimator:hover label.sk-toggleable__label-arrow:before {color: black;}#sk-container-id-1 div.sk-toggleable__content {max-height: 0;max-width: 0;overflow: hidden;text-align: left;background-color: #f0f8ff;}#sk-container-id-1 div.sk-toggleable__content pre {margin: 0.2em;color: black;border-radius: 0.25em;background-color: #f0f8ff;}#sk-container-id-1 input.sk-toggleable__control:checked~div.sk-toggleable__content {max-height: 200px;max-width: 100%;overflow: auto;}#sk-container-id-1 input.sk-toggleable__control:checked~label.sk-toggleable__label-arrow:before {content: \"▾\";}#sk-container-id-1 div.sk-estimator input.sk-toggleable__control:checked~label.sk-toggleable__label {background-color: #d4ebff;}#sk-container-id-1 div.sk-label input.sk-toggleable__control:checked~label.sk-toggleable__label {background-color: #d4ebff;}#sk-container-id-1 input.sk-hidden--visually {border: 0;clip: rect(1px 1px 1px 1px);clip: rect(1px, 1px, 1px, 1px);height: 1px;margin: -1px;overflow: hidden;padding: 0;position: absolute;width: 1px;}#sk-container-id-1 div.sk-estimator {font-family: monospace;background-color: #f0f8ff;border: 1px dotted black;border-radius: 0.25em;box-sizing: border-box;margin-bottom: 0.5em;}#sk-container-id-1 div.sk-estimator:hover {background-color: #d4ebff;}#sk-container-id-1 div.sk-parallel-item::after {content: \"\";width: 100%;border-bottom: 1px solid gray;flex-grow: 1;}#sk-container-id-1 div.sk-label:hover label.sk-toggleable__label {background-color: #d4ebff;}#sk-container-id-1 div.sk-serial::before {content: \"\";position: absolute;border-left: 1px solid gray;box-sizing: border-box;top: 0;bottom: 0;left: 50%;z-index: 0;}#sk-container-id-1 div.sk-serial {display: flex;flex-direction: column;align-items: center;background-color: white;padding-right: 0.2em;padding-left: 0.2em;position: relative;}#sk-container-id-1 div.sk-item {position: relative;z-index: 1;}#sk-container-id-1 div.sk-parallel {display: flex;align-items: stretch;justify-content: center;background-color: white;position: relative;}#sk-container-id-1 div.sk-item::before, #sk-container-id-1 div.sk-parallel-item::before {content: \"\";position: absolute;border-left: 1px solid gray;box-sizing: border-box;top: 0;bottom: 0;left: 50%;z-index: -1;}#sk-container-id-1 div.sk-parallel-item {display: flex;flex-direction: column;z-index: 1;position: relative;background-color: white;}#sk-container-id-1 div.sk-parallel-item:first-child::after {align-self: flex-end;width: 50%;}#sk-container-id-1 div.sk-parallel-item:last-child::after {align-self: flex-start;width: 50%;}#sk-container-id-1 div.sk-parallel-item:only-child::after {width: 0;}#sk-container-id-1 div.sk-dashed-wrapped {border: 1px dashed gray;margin: 0 0.4em 0.5em 0.4em;box-sizing: border-box;padding-bottom: 0.4em;background-color: white;}#sk-container-id-1 div.sk-label label {font-family: monospace;font-weight: bold;display: inline-block;line-height: 1.2em;}#sk-container-id-1 div.sk-label-container {text-align: center;}#sk-container-id-1 div.sk-container {/* jupyter's `normalize.less` sets `[hidden] { display: none; }` but bootstrap.min.css set `[hidden] { display: none !important; }` so we also need the `!important` here to be able to override the default hidden behavior on the sphinx rendered scikit-learn.org. See: https://github.com/scikit-learn/scikit-learn/issues/21755 */display: inline-block !important;position: relative;}#sk-container-id-1 div.sk-text-repr-fallback {display: none;}</style><div id=\"sk-container-id-1\" class=\"sk-top-container\"><div class=\"sk-text-repr-fallback\"><pre>XGBClassifier(base_score=0.5, booster=&#x27;gbtree&#x27;, callbacks=None,\n",
       "              colsample_bylevel=1, colsample_bynode=1, colsample_bytree=1,\n",
       "              early_stopping_rounds=None, enable_categorical=False,\n",
       "              eval_metric=None, feature_types=None, gamma=0.0, gpu_id=-1,\n",
       "              grow_policy=&#x27;depthwise&#x27;, importance_type=None,\n",
       "              interaction_constraints=&#x27;&#x27;, learning_rate=0.08, max_bin=256,\n",
       "              max_cat_threshold=64, max_cat_to_onehot=4, max_delta_step=0,\n",
       "              max_depth=3, max_leaves=0, min_child_weight=7, missing=nan,\n",
       "              monotone_constraints=&#x27;()&#x27;, n_estimators=100, n_jobs=0,\n",
       "              num_parallel_tree=1, predictor=&#x27;auto&#x27;, random_state=0, ...)</pre><b>In a Jupyter environment, please rerun this cell to show the HTML representation or trust the notebook. <br />On GitHub, the HTML representation is unable to render, please try loading this page with nbviewer.org.</b></div><div class=\"sk-container\" hidden><div class=\"sk-item\"><div class=\"sk-estimator sk-toggleable\"><input class=\"sk-toggleable__control sk-hidden--visually\" id=\"sk-estimator-id-1\" type=\"checkbox\" checked><label for=\"sk-estimator-id-1\" class=\"sk-toggleable__label sk-toggleable__label-arrow\">XGBClassifier</label><div class=\"sk-toggleable__content\"><pre>XGBClassifier(base_score=0.5, booster=&#x27;gbtree&#x27;, callbacks=None,\n",
       "              colsample_bylevel=1, colsample_bynode=1, colsample_bytree=1,\n",
       "              early_stopping_rounds=None, enable_categorical=False,\n",
       "              eval_metric=None, feature_types=None, gamma=0.0, gpu_id=-1,\n",
       "              grow_policy=&#x27;depthwise&#x27;, importance_type=None,\n",
       "              interaction_constraints=&#x27;&#x27;, learning_rate=0.08, max_bin=256,\n",
       "              max_cat_threshold=64, max_cat_to_onehot=4, max_delta_step=0,\n",
       "              max_depth=3, max_leaves=0, min_child_weight=7, missing=nan,\n",
       "              monotone_constraints=&#x27;()&#x27;, n_estimators=100, n_jobs=0,\n",
       "              num_parallel_tree=1, predictor=&#x27;auto&#x27;, random_state=0, ...)</pre></div></div></div></div></div>"
      ],
      "text/plain": [
       "XGBClassifier(base_score=0.5, booster='gbtree', callbacks=None,\n",
       "              colsample_bylevel=1, colsample_bynode=1, colsample_bytree=1,\n",
       "              early_stopping_rounds=None, enable_categorical=False,\n",
       "              eval_metric=None, feature_types=None, gamma=0.0, gpu_id=-1,\n",
       "              grow_policy='depthwise', importance_type=None,\n",
       "              interaction_constraints='', learning_rate=0.08, max_bin=256,\n",
       "              max_cat_threshold=64, max_cat_to_onehot=4, max_delta_step=0,\n",
       "              max_depth=3, max_leaves=0, min_child_weight=7, missing=nan,\n",
       "              monotone_constraints='()', n_estimators=100, n_jobs=0,\n",
       "              num_parallel_tree=1, predictor='auto', random_state=0, ...)"
      ]
     },
     "execution_count": 62,
     "metadata": {},
     "output_type": "execute_result"
    }
   ],
   "source": [
    "xgb_ex = xgb_model\n",
    "xgb_ex.fit(ex_train, y_train)"
   ]
  },
  {
   "cell_type": "code",
   "execution_count": 63,
   "id": "a01a01b0",
   "metadata": {
    "scrolled": false
   },
   "outputs": [
    {
     "data": {
      "image/png": "[encoded data removed]",
      "text/plain": [
       "<Figure size 800x650 with 1 Axes>"
      ]
     },
     "metadata": {},
     "output_type": "display_data"
    }
   ],
   "source": [
    "explainer = shap.TreeExplainer(xgb_ex)\n",
    "shap_values = explainer(ex_test)\n",
    "shap.plots.bar(shap_values[0])"
   ]
  },
  {
   "cell_type": "markdown",
   "id": "3cc085c0",
   "metadata": {},
   "source": [
    "Here we can see the top features that drive the model. Being cyber bullied or bullied outside school is a high indicator of whether a student will be bullied in school or not. Also their perception of other students being helpful or not can indicate bullying."
   ]
  },
  {
   "cell_type": "markdown",
   "id": "fd846047",
   "metadata": {},
   "source": [
    "## Predicting Using Synthetic Minority Over Sampling (SMOTE) and Random Under Sampling"
   ]
  },
  {
   "cell_type": "markdown",
   "id": "6fa628a4",
   "metadata": {},
   "source": [
    "A combinantion of both smote over sampling and a random undersampling wil be performed on the train dataset before making predictions on the test dataset. The idea is to show how resampling the data can improve the model performamce on an imbalanced dataset."
   ]
  },
  {
   "cell_type": "markdown",
   "id": "59ec1731",
   "metadata": {},
   "source": [
    "### Over Sampling"
   ]
  },
  {
   "cell_type": "code",
   "execution_count": 38,
   "id": "3f3b0ed1",
   "metadata": {},
   "outputs": [],
   "source": [
    "over_sampler = SMOTE(sampling_strategy=0.8)\n",
    "X_s, y_s = over_sampler.fit_resample(X_train, y_train)"
   ]
  },
  {
   "cell_type": "code",
   "execution_count": 39,
   "id": "39b0c70d",
   "metadata": {
    "scrolled": true
   },
   "outputs": [
    {
     "data": {
      "text/plain": [
       "0    32113\n",
       "1    25690\n",
       "dtype: int64"
      ]
     },
     "execution_count": 39,
     "metadata": {},
     "output_type": "execute_result"
    }
   ],
   "source": [
    "y_s.value_counts()"
   ]
  },
  {
   "cell_type": "code",
   "execution_count": 40,
   "id": "14fa7bc3",
   "metadata": {},
   "outputs": [],
   "source": [
    "# the s in the variale names is to indicate they are from the resampled data\n",
    "models_s = {\n",
    "    \"logreg\" : LogisticRegression(),\n",
    "    \"randomforest\" : RandomForestClassifier(random_state=1),\n",
    "    \"adaboost\" : AdaBoostClassifier(random_state=1),\n",
    "    \"xgboost\" : XGBClassifier(random_state=1),\n",
    "    \"svm\" : SVC(random_state=1)\n",
    "}"
   ]
  },
  {
   "cell_type": "code",
   "execution_count": 41,
   "id": "80c773ab",
   "metadata": {},
   "outputs": [],
   "source": [
    "model_performance_s = {}\n",
    "# loop through each item in the dictionary and use the models for prediction\n",
    "for k, v in models_s.items():\n",
    "    model_dict_s = {}\n",
    "    model_name_s = k\n",
    "    model_s = v\n",
    "    model_s.fit(X_s, y_s) # fit the model with training data\n",
    "    pred_s = model_s.predict(X_test)\n",
    "    model_dict_s[\"auc_score\"] = roc_auc_score(y_test, pred_s)\n",
    "    model_dict_s[\"precision_score\"] = precision_score(y_test, pred_s)\n",
    "    model_dict_s[\"recall_score\"] = recall_score(y_test, pred_s)\n",
    "    model_dict_s[\"confusion_matrix\"] = confusion_matrix(y_test, pred_s)\n",
    "    model_performance_s[model_name_s] = model_dict_s"
   ]
  },
  {
   "cell_type": "code",
   "execution_count": 42,
   "id": "d854cb60",
   "metadata": {
    "scrolled": false
   },
   "outputs": [
    {
     "name": "stdout",
     "output_type": "stream",
     "text": [
      "logreg :  \n",
      " auc_score: 0.7039 \n",
      " recall_score: 0.5930 \n",
      " precision_score: 0.4671 \n",
      " [[6493 1476]\n",
      " [ 888 1294]]\n",
      "---------------------------\n",
      "randomforest :  \n",
      " auc_score: 0.6342 \n",
      " recall_score: 0.3643 \n",
      " precision_score: 0.5099 \n",
      " [[7205  764]\n",
      " [1387  795]]\n",
      "---------------------------\n",
      "adaboost :  \n",
      " auc_score: 0.6913 \n",
      " recall_score: 0.5298 \n",
      " precision_score: 0.4964 \n",
      " [[6796 1173]\n",
      " [1026 1156]]\n",
      "---------------------------\n",
      "xgboost :  \n",
      " auc_score: 0.6337 \n",
      " recall_score: 0.3341 \n",
      " precision_score: 0.5786 \n",
      " [[7438  531]\n",
      " [1453  729]]\n",
      "---------------------------\n",
      "svm :  \n",
      " auc_score: 0.6574 \n",
      " recall_score: 0.3941 \n",
      " precision_score: 0.5764 \n",
      " [[7337  632]\n",
      " [1322  860]]\n",
      "---------------------------\n"
     ]
    }
   ],
   "source": [
    "for key in model_performance_s.keys():\n",
    "    print(key, \": \", \"\\n\",\n",
    "          \"auc_score: %.4f\" %model_performance_s[key][\"auc_score\"], \"\\n\", \n",
    "          \"recall_score: %.4f\" %model_performance_s[key][\"recall_score\"], \"\\n\",\n",
    "          \"precision_score: %.4f\" %model_performance_s[key][\"precision_score\"], \"\\n\",\n",
    "            model_performance_s[key][\"confusion_matrix\"])\n",
    "    print(\"---------------------------\")"
   ]
  },
  {
   "cell_type": "markdown",
   "id": "aa49bd1b",
   "metadata": {},
   "source": [
    "When the dataset was over sampled, there was improvement in the precision score which means a drop in recall but in generall, the overall model performance dropped from the original dataset. The only exception is the adaboost model which saw a slight improvement."
   ]
  },
  {
   "cell_type": "markdown",
   "id": "c7cb8ed3",
   "metadata": {},
   "source": [
    "### Under Sampling."
   ]
  },
  {
   "cell_type": "code",
   "execution_count": 43,
   "id": "c4129f80",
   "metadata": {},
   "outputs": [
    {
     "data": {
      "text/plain": [
       "0    10612\n",
       "1     8490\n",
       "dtype: int64"
      ]
     },
     "execution_count": 43,
     "metadata": {},
     "output_type": "execute_result"
    }
   ],
   "source": [
    "under_sampler = RandomUnderSampler(sampling_strategy=0.8)\n",
    "X_us, y_us = under_sampler.fit_resample(X_train, y_train)\n",
    "y_us.value_counts()"
   ]
  },
  {
   "cell_type": "code",
   "execution_count": 44,
   "id": "4fd4501e",
   "metadata": {},
   "outputs": [],
   "source": [
    "model_performance_us = {}\n",
    "# loop through each item in the dictionary and use the models for prediction\n",
    "for k, v in models_s.items():\n",
    "    model_dict_us = {}\n",
    "    model_name_us = k\n",
    "    model_us = v\n",
    "    model_us.fit(X_us, y_us) # fit the model with training data\n",
    "    pred_us = model_us.predict(X_test)\n",
    "    model_dict_us[\"auc_score\"] = roc_auc_score(y_test, pred_us)\n",
    "    model_dict_us[\"precision_score\"] = precision_score(y_test, pred_us)\n",
    "    model_dict_us[\"recall_score\"] = recall_score(y_test, pred_us)\n",
    "    model_dict_us[\"confusion_matrix\"] = confusion_matrix(y_test, pred_us)\n",
    "    model_performance_us[model_name_us] = model_dict_us"
   ]
  },
  {
   "cell_type": "code",
   "execution_count": 45,
   "id": "d997fc52",
   "metadata": {
    "scrolled": false
   },
   "outputs": [
    {
     "name": "stdout",
     "output_type": "stream",
     "text": [
      "logreg :  \n",
      " auc_score: 0.7057 \n",
      " recall_score: 0.5944 \n",
      " precision_score: 0.4708 \n",
      " [[6511 1458]\n",
      " [ 885 1297]]\n",
      "---------------------------\n",
      "randomforest :  \n",
      " auc_score: 0.6832 \n",
      " recall_score: 0.6237 \n",
      " precision_score: 0.3989 \n",
      " [[5918 2051]\n",
      " [ 821 1361]]\n",
      "---------------------------\n",
      "adaboost :  \n",
      " auc_score: 0.7052 \n",
      " recall_score: 0.5903 \n",
      " precision_score: 0.4732 \n",
      " [[6535 1434]\n",
      " [ 894 1288]]\n",
      "---------------------------\n",
      "xgboost :  \n",
      " auc_score: 0.6957 \n",
      " recall_score: 0.6063 \n",
      " precision_score: 0.4359 \n",
      " [[6257 1712]\n",
      " [ 859 1323]]\n",
      "---------------------------\n",
      "svm :  \n",
      " auc_score: 0.7077 \n",
      " recall_score: 0.5940 \n",
      " precision_score: 0.4766 \n",
      " [[6546 1423]\n",
      " [ 886 1296]]\n",
      "---------------------------\n"
     ]
    }
   ],
   "source": [
    "for key in model_performance_us.keys():\n",
    "    print(key, \": \", \"\\n\",\n",
    "          \"auc_score: %.4f\" %model_performance_us[key][\"auc_score\"], \"\\n\", \n",
    "          \"recall_score: %.4f\" %model_performance_us[key][\"recall_score\"], \"\\n\",\n",
    "          \"precision_score: %.4f\" %model_performance_us[key][\"precision_score\"], \"\\n\",\n",
    "            model_performance_us[key][\"confusion_matrix\"])\n",
    "    print(\"---------------------------\")"
   ]
  },
  {
   "cell_type": "markdown",
   "id": "e2fff0a9",
   "metadata": {},
   "source": [
    "The under sampled dataset showed an improvement for most of the models and the performance was slightly close to that of the models that used the original dataset. Again the adaboost model benefitted the most from it."
   ]
  },
  {
   "cell_type": "code",
   "execution_count": 46,
   "id": "8e8449fb",
   "metadata": {},
   "outputs": [
    {
     "data": {
      "text/plain": [
       "0    24083\n",
       "1    19267\n",
       "dtype: int64"
      ]
     },
     "execution_count": 46,
     "metadata": {},
     "output_type": "execute_result"
    }
   ],
   "source": [
    "over_sampler = SMOTE(sampling_strategy=0.6)\n",
    "under_sampler = RandomUnderSampler(sampling_strategy=0.8)\n",
    "pipe = Pipeline([(\"over\", over_sampler), (\"under\", under_sampler)])\n",
    "X_ds, y_ds = pipe.fit_resample(X_train, y_train)\n",
    "y_ds.value_counts()"
   ]
  },
  {
   "cell_type": "code",
   "execution_count": 47,
   "id": "3231b925",
   "metadata": {},
   "outputs": [],
   "source": [
    "model_performance_ds = {}\n",
    "# loop through each item in the dictionary and use the models for prediction\n",
    "for k, v in models_s.items():\n",
    "    model_dict_ds = {}\n",
    "    model_name_ds = k\n",
    "    model_ds = v\n",
    "    model_ds.fit(X_ds, y_ds) # fit the model with training data\n",
    "    pred_ds = model_ds.predict(X_test)\n",
    "    model_dict_ds[\"auc_score\"] = roc_auc_score(y_test, pred_ds)\n",
    "    model_dict_ds[\"precision_score\"] = precision_score(y_test, pred_ds)\n",
    "    model_dict_ds[\"recall_score\"] = recall_score(y_test, pred_ds)\n",
    "    model_dict_ds[\"confusion_matrix\"] = confusion_matrix(y_test, pred_ds)\n",
    "    model_performance_ds[model_name_ds] = model_dict_ds"
   ]
  },
  {
   "cell_type": "code",
   "execution_count": 48,
   "id": "0518c975",
   "metadata": {},
   "outputs": [
    {
     "name": "stdout",
     "output_type": "stream",
     "text": [
      "logreg :  \n",
      " auc_score: 0.7018 \n",
      " recall_score: 0.5880 \n",
      " precision_score: 0.4662 \n",
      " [[6500 1469]\n",
      " [ 899 1283]]\n",
      "---------------------------\n",
      "randomforest :  \n",
      " auc_score: 0.6508 \n",
      " recall_score: 0.4244 \n",
      " precision_score: 0.4861 \n",
      " [[6990  979]\n",
      " [1256  926]]\n",
      "---------------------------\n",
      "adaboost :  \n",
      " auc_score: 0.6946 \n",
      " recall_score: 0.5422 \n",
      " precision_score: 0.4925 \n",
      " [[6750 1219]\n",
      " [ 999 1183]]\n",
      "---------------------------\n",
      "xgboost :  \n",
      " auc_score: 0.6587 \n",
      " recall_score: 0.4051 \n",
      " precision_score: 0.5584 \n",
      " [[7270  699]\n",
      " [1298  884]]\n",
      "---------------------------\n",
      "svm :  \n",
      " auc_score: 0.6728 \n",
      " recall_score: 0.4514 \n",
      " precision_score: 0.5385 \n",
      " [[7125  844]\n",
      " [1197  985]]\n",
      "---------------------------\n"
     ]
    }
   ],
   "source": [
    "for key in model_performance_ds.keys():\n",
    "    print(key, \": \", \"\\n\",\n",
    "          \"auc_score: %.4f\" %model_performance_ds[key][\"auc_score\"], \"\\n\", \n",
    "          \"recall_score: %.4f\" %model_performance_ds[key][\"recall_score\"], \"\\n\",\n",
    "          \"precision_score: %.4f\" %model_performance_ds[key][\"precision_score\"], \"\\n\",\n",
    "            model_performance_ds[key][\"confusion_matrix\"])\n",
    "    print(\"---------------------------\")"
   ]
  },
  {
   "cell_type": "markdown",
   "id": "011a3924",
   "metadata": {},
   "source": [
    "When both under sampling and over samping is performed, the performance of the models is in between that of the over sampled and under sampled data. It is still not as good as the performance of the models before the data set was sampled."
   ]
  },
  {
   "cell_type": "markdown",
   "id": "b4373036",
   "metadata": {},
   "source": [
    "## Conclusion\n",
    "There are few takeaways that can be gotten from the performances of the different models.\n",
    "* The SVC model did the best job in predicting whether a student will be bullied or not. It had the highest true positive predictions and the least false negative predictions which for me is the most important.\n",
    "* The xgboost, logisitic regression models weren't far off, neither was the custom model of xgboost and logisttic regression. Any of these models offer very similar performance.\n",
    "* When the data was resampled, it didn't show any significant improvement in how the models performed. In fact the models performed worse on the resampled dataset.\n",
    "* Only the adaboost model showed improvement on the resampled dataset matching closely the performance of the logistic regression model and the xgboost model on the non-resampled dataset."
   ]
  }
 ],
 "metadata": {
  "kernelspec": {
   "display_name": "Python 3 (ipykernel)",
   "language": "python",
   "name": "python3"
  },
  "language_info": {
   "codemirror_mode": {
    "name": "ipython",
    "version": 3
   },
   "file_extension": ".py",
   "mimetype": "text/x-python",
   "name": "python",
   "nbconvert_exporter": "python",
   "pygments_lexer": "ipython3",
   "version": "3.9.13"
  }
 },
 "nbformat": 4,
 "nbformat_minor": 5
}
